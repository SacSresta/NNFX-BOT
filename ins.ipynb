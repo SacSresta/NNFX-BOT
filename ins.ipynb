{
 "cells": [
  {
   "cell_type": "code",
   "execution_count": null,
   "metadata": {},
   "outputs": [],
   "source": []
  },
  {
   "cell_type": "code",
   "execution_count": 2,
   "metadata": {},
   "outputs": [
    {
     "name": "stdout",
     "output_type": "stream",
     "text": [
      "['EUR_USD', 'CHF_ZAR', 'USD_HKD', 'NZD_USD', 'GBP_AUD', 'USD_PLN', 'EUR_ZAR', 'USD_DKK', 'USD_ZAR', 'CAD_JPY', 'CAD_HKD', 'USD_CHF', 'AUD_HKD', 'NZD_CHF', 'AUD_CHF', 'GBP_CHF', 'USD_THB', 'GBP_CAD', 'EUR_HKD', 'CHF_JPY', 'GBP_HKD', 'EUR_NZD', 'AUD_SGD', 'EUR_JPY', 'EUR_TRY', 'USD_JPY', 'GBP_ZAR', 'SGD_JPY', 'ZAR_JPY', 'AUD_JPY', 'CAD_CHF', 'NZD_HKD', 'AUD_NZD', 'CAD_SGD', 'GBP_USD', 'USD_MXN', 'AUD_CAD', 'USD_HUF', 'EUR_DKK', 'EUR_CAD', 'USD_SEK', 'GBP_SGD', 'EUR_PLN', 'HKD_JPY', 'EUR_HUF', 'GBP_PLN', 'USD_SGD', 'EUR_SEK', 'GBP_NZD', 'USD_CZK', 'EUR_NOK', 'EUR_GBP', 'CHF_HKD', 'NZD_JPY', 'EUR_CZK', 'SGD_CHF', 'EUR_CHF', 'NZD_CAD', 'USD_CNH', 'USD_TRY', 'GBP_JPY', 'EUR_SGD', 'AUD_USD', 'USD_NOK', 'NZD_SGD', 'USD_CAD', 'EUR_AUD', 'TRY_JPY']\n"
     ]
    }
   ],
   "source": [
    "instruments = []\n",
    "ins_list = accounts.AccountInstruments(ForexData().accountID)\n",
    "response = ForexData().api.request(ins_list)\n",
    "for i in response['instruments']:\n",
    "    if i['type'] == 'CURRENCY':\n",
    "        instruments.append(i['name'])\n",
    "\n",
    "\n",
    "print(instruments)"
   ]
  },
  {
   "cell_type": "code",
   "execution_count": 3,
   "metadata": {},
   "outputs": [
    {
     "data": {
      "text/plain": [
       "['EUR_USD',\n",
       " 'CHF_ZAR',\n",
       " 'USD_HKD',\n",
       " 'NZD_USD',\n",
       " 'GBP_AUD',\n",
       " 'USD_PLN',\n",
       " 'EUR_ZAR',\n",
       " 'USD_DKK',\n",
       " 'USD_ZAR',\n",
       " 'CAD_JPY',\n",
       " 'CAD_HKD',\n",
       " 'USD_CHF',\n",
       " 'AUD_HKD',\n",
       " 'NZD_CHF',\n",
       " 'AUD_CHF',\n",
       " 'GBP_CHF',\n",
       " 'USD_THB',\n",
       " 'GBP_CAD',\n",
       " 'EUR_HKD',\n",
       " 'CHF_JPY',\n",
       " 'GBP_HKD',\n",
       " 'EUR_NZD',\n",
       " 'AUD_SGD',\n",
       " 'EUR_JPY',\n",
       " 'EUR_TRY',\n",
       " 'USD_JPY',\n",
       " 'GBP_ZAR',\n",
       " 'SGD_JPY',\n",
       " 'ZAR_JPY',\n",
       " 'AUD_JPY',\n",
       " 'CAD_CHF',\n",
       " 'NZD_HKD',\n",
       " 'AUD_NZD',\n",
       " 'CAD_SGD',\n",
       " 'GBP_USD',\n",
       " 'USD_MXN',\n",
       " 'AUD_CAD',\n",
       " 'USD_HUF',\n",
       " 'EUR_DKK',\n",
       " 'EUR_CAD',\n",
       " 'USD_SEK',\n",
       " 'GBP_SGD',\n",
       " 'EUR_PLN',\n",
       " 'HKD_JPY',\n",
       " 'EUR_HUF',\n",
       " 'GBP_PLN',\n",
       " 'USD_SGD',\n",
       " 'EUR_SEK',\n",
       " 'GBP_NZD',\n",
       " 'USD_CZK',\n",
       " 'EUR_NOK',\n",
       " 'EUR_GBP',\n",
       " 'CHF_HKD',\n",
       " 'NZD_JPY',\n",
       " 'EUR_CZK',\n",
       " 'SGD_CHF',\n",
       " 'EUR_CHF',\n",
       " 'NZD_CAD',\n",
       " 'USD_CNH',\n",
       " 'USD_TRY',\n",
       " 'GBP_JPY',\n",
       " 'EUR_SGD',\n",
       " 'AUD_USD',\n",
       " 'USD_NOK',\n",
       " 'NZD_SGD',\n",
       " 'USD_CAD',\n",
       " 'EUR_AUD',\n",
       " 'TRY_JPY']"
      ]
     },
     "execution_count": 3,
     "metadata": {},
     "output_type": "execute_result"
    }
   ],
   "source": [
    "ForexData().tradable_instruments()"
   ]
  },
  {
   "cell_type": "code",
   "execution_count": 1,
   "metadata": {},
   "outputs": [],
   "source": []
  },
  {
   "cell_type": "code",
   "execution_count": 1,
   "metadata": {},
   "outputs": [
    {
     "ename": "ModuleNotFoundError",
     "evalue": "No module named 'src'",
     "output_type": "error",
     "traceback": [
      "\u001b[1;31m---------------------------------------------------------------------------\u001b[0m",
      "\u001b[1;31mModuleNotFoundError\u001b[0m                       Traceback (most recent call last)",
      "Cell \u001b[1;32mIn[1], line 1\u001b[0m\n\u001b[1;32m----> 1\u001b[0m \u001b[38;5;28;01mfrom\u001b[39;00m \u001b[38;5;21;01msrc\u001b[39;00m\u001b[38;5;21;01m.\u001b[39;00m\u001b[38;5;21;01mdata\u001b[39;00m \u001b[38;5;28;01mimport\u001b[39;00m ForexData\n\u001b[0;32m      2\u001b[0m \u001b[38;5;28;01mfrom\u001b[39;00m \u001b[38;5;21;01moandapyV20\u001b[39;00m\u001b[38;5;21;01m.\u001b[39;00m\u001b[38;5;21;01mendpoints\u001b[39;00m \u001b[38;5;28;01mimport\u001b[39;00m accounts\n\u001b[0;32m      3\u001b[0m \u001b[38;5;28;01mfrom\u001b[39;00m \u001b[38;5;21;01mStrategy\u001b[39;00m \u001b[38;5;28;01mimport\u001b[39;00m last_candle_function,running_trades,final_check\n",
      "\u001b[1;31mModuleNotFoundError\u001b[0m: No module named 'src'"
     ]
    }
   ],
   "source": [
    "from src.data import ForexData\n",
    "from oandapyV20.endpoints import accounts\n",
    "from Strategy import last_candle_function,running_trades,final_check"
   ]
  },
  {
   "cell_type": "code",
   "execution_count": 7,
   "metadata": {},
   "outputs": [
    {
     "name": "stdout",
     "output_type": "stream",
     "text": [
      "Signal Not found for EUR_USD\n",
      "Signal Not found for CHF_ZAR\n",
      "Found signal for USD_HKD\n",
      "False\n",
      "[]\n",
      "Order placed for USD_HKD. Side: buy, Time: 2024-07-16 19:00:00+10:00,Details:{'orderCreateTransaction': {'id': '34063', 'accountID': '101-011-24509333-004', 'userID': 24509333, 'batchID': '34063', 'requestID': '115305305317473899', 'time': '2024-07-16T09:48:00.928358511Z', 'type': 'MARKET_ORDER', 'instrument': 'USD_HKD', 'units': '342308', 'timeInForce': 'FOK', 'positionFill': 'DEFAULT', 'takeProfitOnFill': {'price': '7.80054', 'timeInForce': 'GTC'}, 'stopLossOnFill': {'price': '7.81104', 'timeInForce': 'GTC', 'triggerMode': 'TOP_OF_BOOK'}, 'reason': 'CLIENT_ORDER'}, 'orderCancelTransaction': {'id': '34064', 'accountID': '101-011-24509333-004', 'userID': 24509333, 'batchID': '34063', 'requestID': '115305305317473899', 'time': '2024-07-16T09:48:00.928358511Z', 'type': 'ORDER_CANCEL', 'orderID': '34063', 'reason': 'POSITION_SIZE_EXCEEDED'}, 'relatedTransactionIDs': ['34063', '34064'], 'lastTransactionID': '34064'}\n",
      "Signal Not found for NZD_USD\n",
      "Signal Not found for GBP_AUD\n",
      "Signal Not found for USD_PLN\n",
      "Found signal for EUR_ZAR\n",
      "False\n",
      "[]\n",
      "Order placed for EUR_ZAR. Side: sell, Time: 2024-07-16 19:00:00+10:00,Details:{'orderCreateTransaction': {'id': '34065', 'accountID': '101-011-24509333-004', 'userID': 24509333, 'batchID': '34065', 'requestID': '61262109847496580', 'time': '2024-07-16T09:48:14.479372727Z', 'type': 'MARKET_ORDER', 'instrument': 'EUR_ZAR', 'units': '-15246', 'timeInForce': 'FOK', 'positionFill': 'DEFAULT', 'takeProfitOnFill': {'price': '19.98779', 'timeInForce': 'GTC'}, 'stopLossOnFill': {'price': '19.39111', 'timeInForce': 'GTC', 'triggerMode': 'TOP_OF_BOOK'}, 'reason': 'CLIENT_ORDER'}, 'orderCancelTransaction': {'id': '34066', 'accountID': '101-011-24509333-004', 'userID': 24509333, 'batchID': '34065', 'requestID': '61262109847496580', 'time': '2024-07-16T09:48:14.479372727Z', 'type': 'ORDER_CANCEL', 'orderID': '34065', 'reason': 'TAKE_PROFIT_ON_FILL_LOSS'}, 'relatedTransactionIDs': ['34065', '34066'], 'lastTransactionID': '34066'}\n",
      "Signal Not found for USD_DKK\n",
      "Signal Not found for USD_ZAR\n",
      "Found signal for CAD_JPY\n",
      "False\n",
      "[]\n",
      "Order placed for CAD_JPY. Side: sell, Time: 2024-07-16 19:00:00+10:00,Details:{'orderCreateTransaction': {'id': '34067', 'accountID': '101-011-24509333-004', 'userID': 24509333, 'batchID': '34067', 'requestID': '97290906908104311', 'time': '2024-07-16T09:48:24.336574464Z', 'type': 'MARKET_ORDER', 'instrument': 'CAD_JPY', 'units': '-2423958', 'timeInForce': 'FOK', 'positionFill': 'DEFAULT', 'takeProfitOnFill': {'price': '114.916', 'timeInForce': 'GTC'}, 'stopLossOnFill': {'price': '117.116', 'timeInForce': 'GTC', 'triggerMode': 'TOP_OF_BOOK'}, 'reason': 'CLIENT_ORDER'}, 'orderCancelTransaction': {'id': '34068', 'accountID': '101-011-24509333-004', 'userID': 24509333, 'batchID': '34067', 'requestID': '97290906908104311', 'time': '2024-07-16T09:48:24.336574464Z', 'type': 'ORDER_CANCEL', 'orderID': '34067', 'reason': 'INSUFFICIENT_MARGIN'}, 'relatedTransactionIDs': ['34067', '34068'], 'lastTransactionID': '34068'}\n",
      "Found signal for CAD_HKD\n",
      "False\n",
      "[]\n",
      "Order placed for CAD_HKD. Side: buy, Time: 2024-07-16 19:00:00+10:00,Details:{'orderCreateTransaction': {'id': '34069', 'accountID': '101-011-24509333-004', 'userID': 24509333, 'batchID': '34069', 'requestID': '79276508428458232', 'time': '2024-07-16T09:48:31.205991472Z', 'type': 'MARKET_ORDER', 'instrument': 'CAD_HKD', 'units': '48208', 'timeInForce': 'FOK', 'positionFill': 'DEFAULT', 'takeProfitOnFill': {'price': '5.68330', 'timeInForce': 'GTC'}, 'stopLossOnFill': {'price': '5.73790', 'timeInForce': 'GTC', 'triggerMode': 'TOP_OF_BOOK'}, 'reason': 'CLIENT_ORDER'}, 'orderCancelTransaction': {'id': '34070', 'accountID': '101-011-24509333-004', 'userID': 24509333, 'batchID': '34069', 'requestID': '79276508428458232', 'time': '2024-07-16T09:48:31.205991472Z', 'type': 'ORDER_CANCEL', 'orderID': '34069', 'reason': 'TAKE_PROFIT_ON_FILL_LOSS'}, 'relatedTransactionIDs': ['34069', '34070'], 'lastTransactionID': '34070'}\n",
      "Found signal for USD_CHF\n",
      "False\n",
      "[]\n",
      "Order placed for USD_CHF. Side: buy, Time: 2024-07-16 19:00:00+10:00,Details:{'orderCreateTransaction': {'id': '34071', 'accountID': '101-011-24509333-004', 'userID': 24509333, 'batchID': '34071', 'requestID': '79276508457824901', 'time': '2024-07-16T09:48:38.037183928Z', 'type': 'MARKET_ORDER', 'instrument': 'USD_CHF', 'units': '36657', 'timeInForce': 'FOK', 'positionFill': 'DEFAULT', 'takeProfitOnFill': {'price': '0.90000', 'timeInForce': 'GTC'}, 'stopLossOnFill': {'price': '0.88874', 'timeInForce': 'GTC', 'triggerMode': 'TOP_OF_BOOK'}, 'reason': 'CLIENT_ORDER'}, 'orderFillTransaction': {'id': '34072', 'accountID': '101-011-24509333-004', 'userID': 24509333, 'batchID': '34071', 'requestID': '79276508457824901', 'time': '2024-07-16T09:48:38.037183928Z', 'type': 'ORDER_FILL', 'orderID': '34071', 'instrument': 'USD_CHF', 'units': '36657', 'requestedUnits': '36657', 'price': '0.89560', 'pl': '0.0000', 'quotePL': '0', 'financing': '0.0000', 'baseFinancing': '0', 'commission': '0.0000', 'accountBalance': '13815.4978', 'gainQuoteHomeConversionFactor': '1.647282830218', 'lossQuoteHomeConversionFactor': '1.663838436552', 'guaranteedExecutionFee': '0.0000', 'quoteGuaranteedExecutionFee': '0', 'halfSpreadCost': '3.6413', 'fullVWAP': '0.89560', 'reason': 'MARKET_ORDER', 'tradeOpened': {'price': '0.89560', 'tradeID': '34072', 'units': '36657', 'guaranteedExecutionFee': '0.0000', 'quoteGuaranteedExecutionFee': '0', 'halfSpreadCost': '3.6413', 'initialMarginRequired': '1811.6179'}, 'fullPrice': {'closeoutBid': '0.89522', 'closeoutAsk': '0.89586', 'timestamp': '2024-07-16T09:48:37.253427820Z', 'bids': [{'price': '0.89548', 'liquidity': '500000'}, {'price': '0.89547', 'liquidity': '500000'}, {'price': '0.89546', 'liquidity': '2000000'}, {'price': '0.89544', 'liquidity': '2000000'}, {'price': '0.89542', 'liquidity': '5000000'}, {'price': '0.89535', 'liquidity': '10000000'}, {'price': '0.89522', 'liquidity': '10000000'}], 'asks': [{'price': '0.89560', 'liquidity': '500000'}, {'price': '0.89561', 'liquidity': '500000'}, {'price': '0.89563', 'liquidity': '2000000'}, {'price': '0.89565', 'liquidity': '2000000'}, {'price': '0.89567', 'liquidity': '5000000'}, {'price': '0.89573', 'liquidity': '10000000'}, {'price': '0.89586', 'liquidity': '10000000'}]}, 'homeConversionFactors': {'gainQuoteHome': {'factor': '1.64728283021783'}, 'lossQuoteHome': {'factor': '1.66383843655167'}, 'gainBaseHome': {'factor': '1.47521054423237'}, 'lossBaseHome': {'factor': '1.49003678085783'}}}, 'relatedTransactionIDs': ['34071', '34072', '34073', '34074'], 'lastTransactionID': '34074'}\n",
      "Found signal for AUD_HKD\n",
      "False\n",
      "[]\n",
      "Order placed for AUD_HKD. Side: buy, Time: 2024-07-16 19:00:00+10:00,Details:{'orderCreateTransaction': {'id': '34075', 'accountID': '101-011-24509333-004', 'userID': 24509333, 'batchID': '34075', 'requestID': '61262109973353771', 'time': '2024-07-16T09:48:44.996537778Z', 'type': 'MARKET_ORDER', 'instrument': 'AUD_HKD', 'units': '28603', 'timeInForce': 'FOK', 'positionFill': 'DEFAULT', 'takeProfitOnFill': {'price': '5.29757', 'timeInForce': 'GTC'}, 'stopLossOnFill': {'price': '5.21289', 'timeInForce': 'GTC', 'triggerMode': 'TOP_OF_BOOK'}, 'reason': 'CLIENT_ORDER'}, 'orderFillTransaction': {'id': '34076', 'accountID': '101-011-24509333-004', 'userID': 24509333, 'batchID': '34075', 'requestID': '61262109973353771', 'time': '2024-07-16T09:48:44.996537778Z', 'type': 'ORDER_FILL', 'orderID': '34075', 'instrument': 'AUD_HKD', 'units': '28603', 'requestedUnits': '28603', 'price': '5.26483', 'pl': '0.0000', 'quotePL': '0', 'financing': '0.0000', 'baseFinancing': '0', 'commission': '0.0000', 'accountBalance': '13815.4978', 'gainQuoteHomeConversionFactor': '0.189011860029', 'lossQuoteHomeConversionFactor': '0.190911476713', 'guaranteedExecutionFee': '0.0000', 'quoteGuaranteedExecutionFee': '0', 'halfSpreadCost': '3.3144', 'fullVWAP': '5.26483', 'reason': 'MARKET_ORDER', 'tradeOpened': {'price': '5.26483', 'tradeID': '34076', 'units': '28603', 'guaranteedExecutionFee': '0.0000', 'quoteGuaranteedExecutionFee': '0', 'halfSpreadCost': '3.3144', 'initialMarginRequired': '1430.1500'}, 'fullPrice': {'closeoutBid': '5.26336', 'closeoutAsk': '5.26509', 'timestamp': '2024-07-16T09:48:43.792652004Z', 'bids': [{'price': '5.26361', 'liquidity': '500000'}, {'price': '5.26352', 'liquidity': '500000'}, {'price': '5.26347', 'liquidity': '2000000'}, {'price': '5.26336', 'liquidity': '2000000'}], 'asks': [{'price': '5.26483', 'liquidity': '500000'}, {'price': '5.26493', 'liquidity': '500000'}, {'price': '5.26497', 'liquidity': '2000000'}, {'price': '5.26509', 'liquidity': '2000000'}]}, 'homeConversionFactors': {'gainQuoteHome': {'factor': '0.18901186002901'}, 'lossQuoteHome': {'factor': '0.19091147671271'}, 'gainBaseHome': {'factor': '1'}, 'lossBaseHome': {'factor': '1'}}}, 'relatedTransactionIDs': ['34075', '34076', '34077', '34078'], 'lastTransactionID': '34078'}\n",
      "Found signal for NZD_CHF\n",
      "True\n",
      "['USD_CHF']\n",
      "NZD_CHF this is trades:USD_CHF\n",
      "Order placed for NZD_CHF. Side: buy, Time: 2024-07-16 19:00:00+10:00,Details:{'orderCreateTransaction': {'id': '34083', 'accountID': '101-011-24509333-004', 'userID': 24509333, 'batchID': '34083', 'requestID': '97290907029765254', 'time': '2024-07-16T09:48:53.226464883Z', 'type': 'MARKET_ORDER', 'instrument': 'NZD_CHF', 'units': '29417', 'timeInForce': 'FOK', 'positionFill': 'DEFAULT', 'takeProfitOnFill': {'price': '0.53971', 'timeInForce': 'GTC'}, 'stopLossOnFill': {'price': '0.54817', 'timeInForce': 'GTC', 'triggerMode': 'TOP_OF_BOOK'}, 'reason': 'CLIENT_ORDER'}, 'orderCancelTransaction': {'id': '34084', 'accountID': '101-011-24509333-004', 'userID': 24509333, 'batchID': '34083', 'requestID': '97290907029765254', 'time': '2024-07-16T09:48:53.226464883Z', 'type': 'ORDER_CANCEL', 'orderID': '34083', 'reason': 'TAKE_PROFIT_ON_FILL_LOSS'}, 'relatedTransactionIDs': ['34083', '34084'], 'lastTransactionID': '34084'}\n",
      "Found signal for AUD_CHF\n",
      "True\n",
      "['AUD_HKD']\n",
      "AUD_CHF this is trades:AUD_HKD\n",
      "Order placed for AUD_CHF. Side: buy, Time: 2024-07-16 19:00:00+10:00,Details:{'orderCreateTransaction': {'id': '34089', 'accountID': '101-011-24509333-004', 'userID': 24509333, 'batchID': '34089', 'requestID': '97290907063327098', 'time': '2024-07-16T09:49:01.226314823Z', 'type': 'MARKET_ORDER', 'instrument': 'AUD_CHF', 'units': '31766', 'timeInForce': 'FOK', 'positionFill': 'DEFAULT', 'takeProfitOnFill': {'price': '0.60752', 'timeInForce': 'GTC'}, 'stopLossOnFill': {'price': '0.59869', 'timeInForce': 'GTC', 'triggerMode': 'TOP_OF_BOOK'}, 'reason': 'CLIENT_ORDER'}, 'orderFillTransaction': {'id': '34090', 'accountID': '101-011-24509333-004', 'userID': 24509333, 'batchID': '34089', 'requestID': '97290907063327098', 'time': '2024-07-16T09:49:01.226314823Z', 'type': 'ORDER_FILL', 'orderID': '34089', 'instrument': 'AUD_CHF', 'units': '31766', 'requestedUnits': '31766', 'price': '0.60412', 'pl': '0.0000', 'quotePL': '0', 'financing': '0.0000', 'baseFinancing': '0', 'commission': '0.0000', 'accountBalance': '13806.0051', 'gainQuoteHomeConversionFactor': '1.647187387613', 'lossQuoteHomeConversionFactor': '1.663742034725', 'guaranteedExecutionFee': '0.0000', 'quoteGuaranteedExecutionFee': '0', 'halfSpreadCost': '3.1552', 'fullVWAP': '0.60412', 'reason': 'MARKET_ORDER', 'tradeOpened': {'price': '0.60412', 'tradeID': '34090', 'units': '31766', 'guaranteedExecutionFee': '0.0000', 'quoteGuaranteedExecutionFee': '0', 'halfSpreadCost': '3.1552', 'initialMarginRequired': '1058.8667'}, 'fullPrice': {'closeoutBid': '0.60373', 'closeoutAsk': '0.60439', 'timestamp': '2024-07-16T09:49:00.948405639Z', 'bids': [{'price': '0.60400', 'liquidity': '500000'}, {'price': '0.60399', 'liquidity': '500000'}, {'price': '0.60398', 'liquidity': '2000000'}, {'price': '0.60396', 'liquidity': '2000000'}, {'price': '0.60394', 'liquidity': '5000000'}, {'price': '0.60387', 'liquidity': '10000000'}, {'price': '0.60373', 'liquidity': '5000000'}], 'asks': [{'price': '0.60412', 'liquidity': '500000'}, {'price': '0.60414', 'liquidity': '500000'}, {'price': '0.60415', 'liquidity': '2000000'}, {'price': '0.60417', 'liquidity': '2000000'}, {'price': '0.60418', 'liquidity': '5000000'}, {'price': '0.60426', 'liquidity': '10000000'}, {'price': '0.60439', 'liquidity': '5000000'}]}, 'homeConversionFactors': {'gainQuoteHome': {'factor': '1.64718738761317'}, 'lossQuoteHome': {'factor': '1.66374203472487'}, 'gainBaseHome': {'factor': '1'}, 'lossBaseHome': {'factor': '1'}}}, 'relatedTransactionIDs': ['34089', '34090', '34091', '34092'], 'lastTransactionID': '34092'}\n",
      "Signal Not found for GBP_CHF\n",
      "Signal Not found for USD_THB\n",
      "Signal Not found for GBP_CAD\n",
      "Signal Not found for EUR_HKD\n",
      "Found signal for CHF_JPY\n",
      "True\n",
      "['AUD_CHF']\n",
      "CHF_JPY this is trades:AUD_CHF\n",
      "Order placed for CHF_JPY. Side: sell, Time: 2024-07-16 19:00:00+10:00,Details:{'orderCreateTransaction': {'id': '34097', 'accountID': '101-011-24509333-004', 'userID': 24509333, 'batchID': '34097', 'requestID': '97290907126255937', 'time': '2024-07-16T09:49:16.518036513Z', 'type': 'MARKET_ORDER', 'instrument': 'CHF_JPY', 'units': '-2931134', 'timeInForce': 'FOK', 'positionFill': 'DEFAULT', 'takeProfitOnFill': {'price': '175.716', 'timeInForce': 'GTC'}, 'stopLossOnFill': {'price': '178.501', 'timeInForce': 'GTC', 'triggerMode': 'TOP_OF_BOOK'}, 'reason': 'CLIENT_ORDER'}, 'orderCancelTransaction': {'id': '34098', 'accountID': '101-011-24509333-004', 'userID': 24509333, 'batchID': '34097', 'requestID': '97290907126255937', 'time': '2024-07-16T09:49:16.518036513Z', 'type': 'ORDER_CANCEL', 'orderID': '34097', 'reason': 'INSUFFICIENT_MARGIN'}, 'relatedTransactionIDs': ['34097', '34098'], 'lastTransactionID': '34098'}\n",
      "Signal Not found for GBP_HKD\n",
      "Found signal for EUR_NZD\n",
      "False\n",
      "[]\n",
      "Order placed for EUR_NZD. Side: sell, Time: 2024-07-16 19:00:00+10:00,Details:{'orderCreateTransaction': {'id': '34099', 'accountID': '101-011-24509333-004', 'userID': 24509333, 'batchID': '34099', 'requestID': '115305305669857312', 'time': '2024-07-16T09:49:24.744161256Z', 'type': 'MARKET_ORDER', 'instrument': 'EUR_NZD', 'units': '-35551', 'timeInForce': 'FOK', 'positionFill': 'DEFAULT', 'takeProfitOnFill': {'price': '1.80627', 'timeInForce': 'GTC'}, 'stopLossOnFill': {'price': '1.78300', 'timeInForce': 'GTC', 'triggerMode': 'TOP_OF_BOOK'}, 'reason': 'CLIENT_ORDER'}, 'orderCancelTransaction': {'id': '34100', 'accountID': '101-011-24509333-004', 'userID': 24509333, 'batchID': '34099', 'requestID': '115305305669857312', 'time': '2024-07-16T09:49:24.744161256Z', 'type': 'ORDER_CANCEL', 'orderID': '34099', 'reason': 'TAKE_PROFIT_ON_FILL_LOSS'}, 'relatedTransactionIDs': ['34099', '34100'], 'lastTransactionID': '34100'}\n",
      "Found signal for AUD_SGD\n",
      "False\n",
      "[]\n",
      "Order placed for AUD_SGD. Side: buy, Time: 2024-07-16 19:00:00+10:00,Details:{'orderCreateTransaction': {'id': '34101', 'accountID': '101-011-24509333-004', 'userID': 24509333, 'batchID': '34101', 'requestID': '61262110170530501', 'time': '2024-07-16T09:49:31.502809487Z', 'type': 'MARKET_ORDER', 'instrument': 'AUD_SGD', 'units': '37898', 'timeInForce': 'FOK', 'positionFill': 'DEFAULT', 'takeProfitOnFill': {'price': '0.90184', 'timeInForce': 'GTC'}, 'stopLossOnFill': {'price': '0.91296', 'timeInForce': 'GTC', 'triggerMode': 'TOP_OF_BOOK'}, 'reason': 'CLIENT_ORDER'}, 'orderCancelTransaction': {'id': '34102', 'accountID': '101-011-24509333-004', 'userID': 24509333, 'batchID': '34101', 'requestID': '61262110170530501', 'time': '2024-07-16T09:49:31.502809487Z', 'type': 'ORDER_CANCEL', 'orderID': '34101', 'reason': 'TAKE_PROFIT_ON_FILL_LOSS'}, 'relatedTransactionIDs': ['34101', '34102'], 'lastTransactionID': '34102'}\n",
      "Found signal for EUR_JPY\n",
      "False\n",
      "[]\n",
      "Order placed for EUR_JPY. Side: sell, Time: 2024-07-16 19:00:00+10:00,Details:{'orderCreateTransaction': {'id': '34103', 'accountID': '101-011-24509333-004', 'userID': 24509333, 'batchID': '34103', 'requestID': '97290907218550093', 'time': '2024-07-16T09:49:38.509944792Z', 'type': 'MARKET_ORDER', 'instrument': 'EUR_JPY', 'units': '-2624297', 'timeInForce': 'FOK', 'positionFill': 'DEFAULT', 'takeProfitOnFill': {'price': '171.378', 'timeInForce': 'GTC'}, 'stopLossOnFill': {'price': '174.391', 'timeInForce': 'GTC', 'triggerMode': 'TOP_OF_BOOK'}, 'reason': 'CLIENT_ORDER'}, 'orderCancelTransaction': {'id': '34104', 'accountID': '101-011-24509333-004', 'userID': 24509333, 'batchID': '34103', 'requestID': '97290907218550093', 'time': '2024-07-16T09:49:38.509944792Z', 'type': 'ORDER_CANCEL', 'orderID': '34103', 'reason': 'INSUFFICIENT_MARGIN'}, 'relatedTransactionIDs': ['34103', '34104'], 'lastTransactionID': '34104'}\n",
      "Signal Not found for EUR_TRY\n",
      "Found signal for USD_JPY\n",
      "False\n",
      "[]\n",
      "Order placed for USD_JPY. Side: sell, Time: 2024-07-16 19:00:00+10:00,Details:{'orderCreateTransaction': {'id': '34105', 'accountID': '101-011-24509333-004', 'userID': 24509333, 'batchID': '34105', 'requestID': '115305305762148400', 'time': '2024-07-16T09:49:46.935712054Z', 'type': 'MARKET_ORDER', 'instrument': 'USD_JPY', 'units': '-2407961', 'timeInForce': 'FOK', 'positionFill': 'DEFAULT', 'takeProfitOnFill': {'price': '157.151', 'timeInForce': 'GTC'}, 'stopLossOnFill': {'price': '160.164', 'timeInForce': 'GTC', 'triggerMode': 'TOP_OF_BOOK'}, 'reason': 'CLIENT_ORDER'}, 'orderCancelTransaction': {'id': '34106', 'accountID': '101-011-24509333-004', 'userID': 24509333, 'batchID': '34105', 'requestID': '115305305762148400', 'time': '2024-07-16T09:49:46.935712054Z', 'type': 'ORDER_CANCEL', 'orderID': '34105', 'reason': 'INSUFFICIENT_MARGIN'}, 'relatedTransactionIDs': ['34105', '34106'], 'lastTransactionID': '34106'}\n",
      "Signal Not found for GBP_ZAR\n",
      "Found signal for SGD_JPY\n",
      "False\n",
      "[]\n",
      "Order placed for SGD_JPY. Side: sell, Time: 2024-07-16 19:00:00+10:00,Details:{'orderCreateTransaction': {'id': '34107', 'accountID': '101-011-24509333-004', 'userID': 24509333, 'batchID': '34107', 'requestID': '97290907289867942', 'time': '2024-07-16T09:49:55.176407010Z', 'type': 'MARKET_ORDER', 'instrument': 'SGD_JPY', 'units': '-2891508', 'timeInForce': 'FOK', 'positionFill': 'DEFAULT', 'takeProfitOnFill': {'price': '117.111', 'timeInForce': 'GTC'}, 'stopLossOnFill': {'price': '118.989', 'timeInForce': 'GTC', 'triggerMode': 'TOP_OF_BOOK'}, 'reason': 'CLIENT_ORDER'}, 'orderCancelTransaction': {'id': '34108', 'accountID': '101-011-24509333-004', 'userID': 24509333, 'batchID': '34107', 'requestID': '97290907289867942', 'time': '2024-07-16T09:49:55.176407010Z', 'type': 'ORDER_CANCEL', 'orderID': '34107', 'reason': 'INSUFFICIENT_MARGIN'}, 'relatedTransactionIDs': ['34107', '34108'], 'lastTransactionID': '34108'}\n",
      "Signal Not found for ZAR_JPY\n",
      "Signal Not found for AUD_JPY\n",
      "Found signal for CAD_CHF\n",
      "False\n",
      "[]\n",
      "Order placed for CAD_CHF. Side: buy, Time: 2024-07-16 19:00:00+10:00,Details:{'orderCreateTransaction': {'id': '34109', 'accountID': '101-011-24509333-004', 'userID': 24509333, 'batchID': '34109', 'requestID': '97290907331820137', 'time': '2024-07-16T09:50:05.108731366Z', 'type': 'MARKET_ORDER', 'instrument': 'CAD_CHF', 'units': '36501', 'timeInForce': 'FOK', 'positionFill': 'DEFAULT', 'takeProfitOnFill': {'price': '0.65132', 'timeInForce': 'GTC'}, 'stopLossOnFill': {'price': '0.65967', 'timeInForce': 'GTC', 'triggerMode': 'TOP_OF_BOOK'}, 'reason': 'CLIENT_ORDER'}, 'orderCancelTransaction': {'id': '34110', 'accountID': '101-011-24509333-004', 'userID': 24509333, 'batchID': '34109', 'requestID': '97290907331820137', 'time': '2024-07-16T09:50:05.108731366Z', 'type': 'ORDER_CANCEL', 'orderID': '34109', 'reason': 'TAKE_PROFIT_ON_FILL_LOSS'}, 'relatedTransactionIDs': ['34109', '34110'], 'lastTransactionID': '34110'}\n",
      "Signal Not found for NZD_HKD\n",
      "Signal Not found for AUD_NZD\n",
      "Signal Not found for CAD_SGD\n",
      "Signal Not found for GBP_USD\n",
      "Found signal for USD_MXN\n",
      "False\n",
      "[]\n",
      "Order placed for USD_MXN. Side: sell, Time: 2024-07-16 19:00:00+10:00,Details:{'orderCreateTransaction': {'id': '34111', 'accountID': '101-011-24509333-004', 'userID': 24509333, 'batchID': '34111', 'requestID': '115305305896389812', 'time': '2024-07-16T09:50:18.147175135Z', 'type': 'MARKET_ORDER', 'instrument': 'USD_MXN', 'units': '-14244', 'timeInForce': 'FOK', 'positionFill': 'DEFAULT', 'takeProfitOnFill': {'price': '17.50965', 'timeInForce': 'GTC'}, 'stopLossOnFill': {'price': '18.08262', 'timeInForce': 'GTC', 'triggerMode': 'TOP_OF_BOOK'}, 'reason': 'CLIENT_ORDER'}, 'orderFillTransaction': {'id': '34112', 'accountID': '101-011-24509333-004', 'userID': 24509333, 'batchID': '34111', 'requestID': '115305305896389812', 'time': '2024-07-16T09:50:18.147175135Z', 'type': 'ORDER_FILL', 'orderID': '34111', 'instrument': 'USD_MXN', 'units': '-14244', 'requestedUnits': '-14244', 'price': '17.73411', 'pl': '0.0000', 'quotePL': '0', 'financing': '0.0000', 'baseFinancing': '0', 'commission': '0.0000', 'accountBalance': '13799.6631', 'gainQuoteHomeConversionFactor': '0.083147752899', 'lossQuoteHomeConversionFactor': '0.083983408707', 'guaranteedExecutionFee': '0.0000', 'quoteGuaranteedExecutionFee': '0', 'halfSpreadCost': '3.0174', 'fullVWAP': '17.73411', 'reason': 'MARKET_ORDER', 'tradeOpened': {'price': '17.73411', 'tradeID': '34112', 'units': '-14244', 'guaranteedExecutionFee': '0.0000', 'quoteGuaranteedExecutionFee': '0', 'halfSpreadCost': '3.0174', 'initialMarginRequired': '1055.6037'}, 'fullPrice': {'closeoutBid': '17.71811', 'closeoutAsk': '17.75518', 'timestamp': '2024-07-16T09:50:18.003372504Z', 'bids': [{'price': '17.73411', 'liquidity': '500000'}, {'price': '17.73311', 'liquidity': '500000'}, {'price': '17.73286', 'liquidity': '2000000'}, {'price': '17.73061', 'liquidity': '2000000'}, {'price': '17.73011', 'liquidity': '5000000'}, {'price': '17.72611', 'liquidity': '10000000'}, {'price': '17.71811', 'liquidity': '5000000'}], 'asks': [{'price': '17.73918', 'liquidity': '500000'}, {'price': '17.74018', 'liquidity': '500000'}, {'price': '17.74043', 'liquidity': '2000000'}, {'price': '17.74268', 'liquidity': '2000000'}, {'price': '17.74318', 'liquidity': '5000000'}, {'price': '17.74718', 'liquidity': '10000000'}, {'price': '17.75518', 'liquidity': '5000000'}]}, 'homeConversionFactors': {'gainQuoteHome': {'factor': '0.08314775289930'}, 'lossQuoteHome': {'factor': '0.08398340870734'}, 'gainBaseHome': {'factor': '1.47476231016730'}, 'lossBaseHome': {'factor': '1.48958404192778'}}}, 'relatedTransactionIDs': ['34111', '34112', '34113', '34114'], 'lastTransactionID': '34114'}\n",
      "Found signal for AUD_CAD\n",
      "False\n",
      "[]\n",
      "Order placed for AUD_CAD. Side: buy, Time: 2024-07-16 19:00:00+10:00,Details:{'orderCreateTransaction': {'id': '34115', 'accountID': '101-011-24509333-004', 'userID': 24509333, 'batchID': '34115', 'requestID': '115305305921560555', 'time': '2024-07-16T09:50:24.711251669Z', 'type': 'MARKET_ORDER', 'instrument': 'AUD_CAD', 'units': '37728', 'timeInForce': 'FOK', 'positionFill': 'DEFAULT', 'takeProfitOnFill': {'price': '0.92719', 'timeInForce': 'GTC'}, 'stopLossOnFill': {'price': '0.91600', 'timeInForce': 'GTC', 'triggerMode': 'TOP_OF_BOOK'}, 'reason': 'CLIENT_ORDER'}, 'orderFillTransaction': {'id': '34116', 'accountID': '101-011-24509333-004', 'userID': 24509333, 'batchID': '34115', 'requestID': '115305305921560555', 'time': '2024-07-16T09:50:24.711251669Z', 'type': 'ORDER_FILL', 'orderID': '34115', 'instrument': 'AUD_CAD', 'units': '37728', 'requestedUnits': '37728', 'price': '0.92283', 'pl': '0.0000', 'quotePL': '0', 'financing': '0.0000', 'baseFinancing': '0', 'commission': '0.0000', 'accountBalance': '13799.6631', 'gainQuoteHomeConversionFactor': '1.078304418389', 'lossQuoteHomeConversionFactor': '1.089141648725', 'guaranteedExecutionFee': '0.0000', 'quoteGuaranteedExecutionFee': '0', 'halfSpreadCost': '3.4754', 'fullVWAP': '0.92283', 'reason': 'MARKET_ORDER', 'tradeOpened': {'price': '0.92283', 'tradeID': '34116', 'units': '37728', 'guaranteedExecutionFee': '0.0000', 'quoteGuaranteedExecutionFee': '0', 'halfSpreadCost': '3.4754', 'initialMarginRequired': '1257.6000'}, 'fullPrice': {'closeoutBid': '0.92193', 'closeoutAsk': '0.92356', 'timestamp': '2024-07-16T09:50:24.144968413Z', 'bids': [{'price': '0.92266', 'liquidity': '500000'}, {'price': '0.92264', 'liquidity': '500000'}, {'price': '0.92263', 'liquidity': '2000000'}, {'price': '0.92262', 'liquidity': '2000000'}, {'price': '0.92260', 'liquidity': '5000000'}, {'price': '0.92243', 'liquidity': '10000000'}, {'price': '0.92229', 'liquidity': '10000000'}, {'price': '0.92193', 'liquidity': '15000000'}], 'asks': [{'price': '0.92283', 'liquidity': '500000'}, {'price': '0.92285', 'liquidity': '500000'}, {'price': '0.92286', 'liquidity': '2000000'}, {'price': '0.92288', 'liquidity': '2000000'}, {'price': '0.92290', 'liquidity': '5000000'}, {'price': '0.92307', 'liquidity': '10000000'}, {'price': '0.92321', 'liquidity': '10000000'}, {'price': '0.92356', 'liquidity': '15000000'}]}, 'homeConversionFactors': {'gainQuoteHome': {'factor': '1.07830441838912'}, 'lossQuoteHome': {'factor': '1.08914164872468'}, 'gainBaseHome': {'factor': '1'}, 'lossBaseHome': {'factor': '1'}}}, 'relatedTransactionIDs': ['34115', '34116', '34117', '34118'], 'lastTransactionID': '34118'}\n",
      "Found signal for USD_HUF\n",
      "True\n",
      "['USD_MXN']\n",
      "USD_HUF this is trades:USD_MXN\n",
      "Error creating order: {\"orderRejectTransaction\":{\"id\":\"34123\",\"accountID\":\"101-011-24509333-004\",\"userID\":24509333,\"batchID\":\"34123\",\"requestID\":\"79276508940273056\",\"time\":\"2024-07-16T09:50:33.062811024Z\",\"type\":\"MARKET_ORDER_REJECT\",\"rejectReason\":\"TAKE_PROFIT_ON_FILL_PRICE_PRECISION_EXCEEDED\",\"instrument\":\"USD_HUF\",\"units\":\"1926357\",\"timeInForce\":\"FOK\",\"positionFill\":\"DEFAULT\",\"takeProfitOnFill\":{\"price\":\"355.82801\",\"timeInForce\":\"GTC\"},\"stopLossOnFill\":{\"price\":\"364.41049\",\"timeInForce\":\"GTC\",\"triggerMode\":\"TOP_OF_BOOK\"},\"reason\":\"CLIENT_ORDER\"},\"relatedTransactionIDs\":[\"34123\"],\"lastTransactionID\":\"34123\",\"errorMessage\":\"The Take Profit on fill specified contains a price with more precision than is allowed by the Order's instrument\",\"errorCode\":\"TAKE_PROFIT_ON_FILL_PRICE_PRECISION_EXCEEDED\"}\n",
      "Signal Not found for EUR_DKK\n",
      "Signal Not found for EUR_CAD\n",
      "Signal Not found for USD_SEK\n",
      "Signal Not found for GBP_SGD\n",
      "Signal Not found for EUR_PLN\n",
      "Found signal for HKD_JPY\n",
      "False\n",
      "[]\n",
      "Order placed for HKD_JPY. Side: sell, Time: 2024-07-16 19:00:00+10:00,Details:{'orderCreateTransaction': {'id': '34124', 'accountID': '101-011-24509333-004', 'userID': 24509333, 'batchID': '34124', 'requestID': '61262110489368275', 'time': '2024-07-16T09:50:47.335006023Z', 'type': 'MARKET_ORDER', 'instrument': 'HKD_JPY', 'units': '-24107', 'timeInForce': 'FOK', 'positionFill': 'DEFAULT', 'takeProfitOnFill': {'price': '20.13700', 'timeInForce': 'GTC'}, 'stopLossOnFill': {'price': '20.52400', 'timeInForce': 'GTC', 'triggerMode': 'TOP_OF_BOOK'}, 'reason': 'CLIENT_ORDER'}, 'orderFillTransaction': {'id': '34125', 'accountID': '101-011-24509333-004', 'userID': 24509333, 'batchID': '34124', 'requestID': '61262110489368275', 'time': '2024-07-16T09:50:47.335006023Z', 'type': 'ORDER_FILL', 'orderID': '34124', 'instrument': 'HKD_JPY', 'units': '-24107', 'requestedUnits': '-24107', 'price': '20.29057', 'pl': '0.0000', 'quotePL': '0', 'financing': '0.0000', 'baseFinancing': '0', 'commission': '0.0000', 'accountBalance': '13794.3156', 'gainQuoteHomeConversionFactor': '0.009312991471', 'lossQuoteHomeConversionFactor': '0.009406589375', 'guaranteedExecutionFee': '0.0000', 'quoteGuaranteedExecutionFee': '0', 'halfSpreadCost': '0.2234', 'fullVWAP': '20.29057', 'reason': 'MARKET_ORDER', 'tradeOpened': {'price': '20.29057', 'tradeID': '34125', 'units': '-24107', 'guaranteedExecutionFee': '0.0000', 'quoteGuaranteedExecutionFee': '0', 'halfSpreadCost': '0.2234', 'initialMarginRequired': '228.9264'}, 'fullPrice': {'closeoutBid': '20.28990', 'closeoutAsk': '20.29323', 'timestamp': '2024-07-16T09:50:46.771080383Z', 'bids': [{'price': '20.29057', 'liquidity': '500000'}, {'price': '20.29038', 'liquidity': '500000'}, {'price': '20.29030', 'liquidity': '2000000'}, {'price': '20.28990', 'liquidity': '2000000'}], 'asks': [{'price': '20.29255', 'liquidity': '500000'}, {'price': '20.29275', 'liquidity': '500000'}, {'price': '20.29283', 'liquidity': '2000000'}, {'price': '20.29323', 'liquidity': '2000000'}]}, 'homeConversionFactors': {'gainQuoteHome': {'factor': '0.00931299147058'}, 'lossQuoteHome': {'factor': '0.00940658937480'}, 'gainBaseHome': {'factor': '0.18897560252089'}, 'lossBaseHome': {'factor': '0.19087485480753'}}}, 'relatedTransactionIDs': ['34124', '34125', '34126', '34127'], 'lastTransactionID': '34127'}\n",
      "Signal Not found for EUR_HUF\n",
      "Signal Not found for GBP_PLN\n",
      "Found signal for USD_SGD\n",
      "False\n",
      "[]\n",
      "Order placed for USD_SGD. Side: sell, Time: 2024-07-16 19:00:00+10:00,Details:{'orderCreateTransaction': {'id': '34128', 'accountID': '101-011-24509333-004', 'userID': 24509333, 'batchID': '34128', 'requestID': '61262110531320120', 'time': '2024-07-16T09:50:57.115711154Z', 'type': 'MARKET_ORDER', 'instrument': 'USD_SGD', 'units': '-58843', 'timeInForce': 'FOK', 'positionFill': 'DEFAULT', 'takeProfitOnFill': {'price': '1.33951', 'timeInForce': 'GTC'}, 'stopLossOnFill': {'price': '1.35006', 'timeInForce': 'GTC', 'triggerMode': 'TOP_OF_BOOK'}, 'reason': 'CLIENT_ORDER'}, 'orderFillTransaction': {'id': '34129', 'accountID': '101-011-24509333-004', 'userID': 24509333, 'batchID': '34128', 'requestID': '61262110531320120', 'time': '2024-07-16T09:50:57.115711154Z', 'type': 'ORDER_FILL', 'orderID': '34128', 'instrument': 'USD_SGD', 'units': '-58843', 'requestedUnits': '-58843', 'price': '1.34359', 'pl': '0.0000', 'quotePL': '0', 'financing': '0.0000', 'baseFinancing': '0', 'commission': '0.0000', 'accountBalance': '13794.3156', 'gainQuoteHomeConversionFactor': '1.097664586183', 'lossQuoteHomeConversionFactor': '1.108696391069', 'guaranteedExecutionFee': '0.0000', 'quoteGuaranteedExecutionFee': '0', 'halfSpreadCost': '4.2194', 'fullVWAP': '1.34359', 'reason': 'MARKET_ORDER', 'tradeOpened': {'price': '1.34359', 'tradeID': '34129', 'units': '-58843', 'guaranteedExecutionFee': '0.0000', 'quoteGuaranteedExecutionFee': '0', 'halfSpreadCost': '4.2194', 'initialMarginRequired': '4361.1636'}, 'fullPrice': {'closeoutBid': '1.34345', 'closeoutAsk': '1.34386', 'timestamp': '2024-07-16T09:50:56.698927000Z', 'bids': [{'price': '1.34359', 'liquidity': '500000'}, {'price': '1.34358', 'liquidity': '2500000'}, {'price': '1.34357', 'liquidity': '2000000'}, {'price': '1.34356', 'liquidity': '5000000'}, {'price': '1.34352', 'liquidity': '10000000'}, {'price': '1.34345', 'liquidity': '5000000'}], 'asks': [{'price': '1.34372', 'liquidity': '500000'}, {'price': '1.34373', 'liquidity': '500000'}, {'price': '1.34374', 'liquidity': '2000000'}, {'price': '1.34375', 'liquidity': '2000000'}, {'price': '1.34376', 'liquidity': '5000000'}, {'price': '1.34379', 'liquidity': '10000000'}, {'price': '1.34386', 'liquidity': '5000000'}]}, 'homeConversionFactors': {'gainQuoteHome': {'factor': '1.09766458618297'}, 'lossQuoteHome': {'factor': '1.10869639106923'}, 'gainBaseHome': {'factor': '1.47489347302112'}, 'lossBaseHome': {'factor': '1.48971652300124'}}}, 'relatedTransactionIDs': ['34128', '34129', '34130', '34131'], 'lastTransactionID': '34131'}\n",
      "Signal Not found for EUR_SEK\n",
      "Found signal for GBP_NZD\n",
      "False\n",
      "[]\n",
      "Order placed for GBP_NZD. Side: sell, Time: 2024-07-16 19:00:00+10:00,Details:{'orderCreateTransaction': {'id': '34132', 'accountID': '101-011-24509333-004', 'userID': 24509333, 'batchID': '34132', 'requestID': '115305306093556539', 'time': '2024-07-16T09:51:05.379443051Z', 'type': 'MARKET_ORDER', 'instrument': 'GBP_NZD', 'units': '-36412', 'timeInForce': 'FOK', 'positionFill': 'DEFAULT', 'takeProfitOnFill': {'price': '2.14887', 'timeInForce': 'GTC'}, 'stopLossOnFill': {'price': '2.12189', 'timeInForce': 'GTC', 'triggerMode': 'TOP_OF_BOOK'}, 'reason': 'CLIENT_ORDER'}, 'orderCancelTransaction': {'id': '34133', 'accountID': '101-011-24509333-004', 'userID': 24509333, 'batchID': '34132', 'requestID': '115305306093556539', 'time': '2024-07-16T09:51:05.379443051Z', 'type': 'ORDER_CANCEL', 'orderID': '34132', 'reason': 'TAKE_PROFIT_ON_FILL_LOSS'}, 'relatedTransactionIDs': ['34132', '34133'], 'lastTransactionID': '34133'}\n",
      "Signal Not found for USD_CZK\n",
      "Signal Not found for EUR_NOK\n",
      "Signal Not found for EUR_GBP\n",
      "Signal Not found for CHF_HKD\n",
      "Signal Not found for NZD_JPY\n",
      "Found signal for EUR_CZK\n",
      "False\n",
      "[]\n",
      "Order placed for EUR_CZK. Side: sell, Time: 2024-07-16 19:00:00+10:00,Details:{'orderCreateTransaction': {'id': '34134', 'accountID': '101-011-24509333-004', 'userID': 24509333, 'batchID': '34134', 'requestID': '61262110623616595', 'time': '2024-07-16T09:51:19.913214362Z', 'type': 'MARKET_ORDER', 'instrument': 'EUR_CZK', 'units': '-43644', 'timeInForce': 'FOK', 'positionFill': 'DEFAULT', 'takeProfitOnFill': {'price': '25.46671', 'timeInForce': 'GTC'}, 'stopLossOnFill': {'price': '25.19943', 'timeInForce': 'GTC', 'triggerMode': 'TOP_OF_BOOK'}, 'reason': 'CLIENT_ORDER'}, 'orderCancelTransaction': {'id': '34135', 'accountID': '101-011-24509333-004', 'userID': 24509333, 'batchID': '34134', 'requestID': '61262110623616595', 'time': '2024-07-16T09:51:19.913214362Z', 'type': 'ORDER_CANCEL', 'orderID': '34134', 'reason': 'TAKE_PROFIT_ON_FILL_LOSS'}, 'relatedTransactionIDs': ['34134', '34135'], 'lastTransactionID': '34135'}\n",
      "Signal Not found for SGD_CHF\n",
      "Signal Not found for EUR_CHF\n",
      "Signal Not found for NZD_CAD\n",
      "Signal Not found for USD_CNH\n",
      "Signal Not found for USD_TRY\n",
      "Signal Not found for GBP_JPY\n",
      "Signal Not found for EUR_SGD\n",
      "Found signal for AUD_USD\n",
      "True\n",
      "['USD_SGD', 'AUD_CAD']\n",
      "AUD_USD this is trades:USD_SGD\n",
      "Order placed for AUD_USD. Side: buy, Time: 2024-07-16 19:00:00+10:00,Details:{'orderCreateTransaction': {'id': '34140', 'accountID': '101-011-24509333-004', 'userID': 24509333, 'batchID': '34140', 'requestID': '97290907759735133', 'time': '2024-07-16T09:51:48.000288445Z', 'type': 'MARKET_ORDER', 'instrument': 'AUD_USD', 'units': '29525', 'timeInForce': 'FOK', 'positionFill': 'DEFAULT', 'takeProfitOnFill': {'price': '0.67883', 'timeInForce': 'GTC'}, 'stopLossOnFill': {'price': '0.66830', 'timeInForce': 'GTC', 'triggerMode': 'TOP_OF_BOOK'}, 'reason': 'CLIENT_ORDER'}, 'orderFillTransaction': {'id': '34141', 'accountID': '101-011-24509333-004', 'userID': 24509333, 'batchID': '34140', 'requestID': '97290907759735133', 'time': '2024-07-16T09:51:48.000288445Z', 'type': 'ORDER_FILL', 'orderID': '34140', 'instrument': 'AUD_USD', 'units': '29525', 'requestedUnits': '29525', 'price': '0.67473', 'pl': '0.0000', 'quotePL': '0', 'financing': '0.0000', 'baseFinancing': '0', 'commission': '0.0000', 'accountBalance': '13785.8350', 'gainQuoteHomeConversionFactor': '1.474751383169', 'lossQuoteHomeConversionFactor': '1.489573005111', 'guaranteedExecutionFee': '0.0000', 'quoteGuaranteedExecutionFee': '0', 'halfSpreadCost': '1.9692', 'fullVWAP': '0.67473', 'reason': 'MARKET_ORDER', 'tradeOpened': {'price': '0.67473', 'tradeID': '34141', 'units': '29525', 'guaranteedExecutionFee': '0.0000', 'quoteGuaranteedExecutionFee': '0', 'halfSpreadCost': '1.9692', 'initialMarginRequired': '984.1667'}, 'fullPrice': {'closeoutBid': '0.67424', 'closeoutAsk': '0.67513', 'timestamp': '2024-07-16T09:51:47.604456708Z', 'bids': [{'price': '0.67464', 'liquidity': '500000'}, {'price': '0.67463', 'liquidity': '2500000'}, {'price': '0.67462', 'liquidity': '2000000'}, {'price': '0.67461', 'liquidity': '5000000'}, {'price': '0.67454', 'liquidity': '10000000'}, {'price': '0.67444', 'liquidity': '10000000'}, {'price': '0.67424', 'liquidity': '15000000'}], 'asks': [{'price': '0.67473', 'liquidity': '500000'}, {'price': '0.67474', 'liquidity': '500000'}, {'price': '0.67475', 'liquidity': '2000000'}, {'price': '0.67476', 'liquidity': '2000000'}, {'price': '0.67477', 'liquidity': '5000000'}, {'price': '0.67483', 'liquidity': '10000000'}, {'price': '0.67493', 'liquidity': '10000000'}, {'price': '0.67513', 'liquidity': '15000000'}]}, 'homeConversionFactors': {'gainQuoteHome': {'factor': '1.47475138316934'}, 'lossQuoteHome': {'factor': '1.48957300511074'}, 'gainBaseHome': {'factor': '1'}, 'lossBaseHome': {'factor': '1'}}}, 'relatedTransactionIDs': ['34140', '34141', '34142', '34143'], 'lastTransactionID': '34143'}\n",
      "Found signal for USD_NOK\n",
      "True\n",
      "['AUD_USD']\n",
      "USD_NOK this is trades:AUD_USD\n",
      "Order placed for USD_NOK. Side: sell, Time: 2024-07-16 19:00:00+10:00,Details:{'orderCreateTransaction': {'id': '34148', 'accountID': '101-011-24509333-004', 'userID': 24509333, 'batchID': '34148', 'requestID': '61262110795619863', 'time': '2024-07-16T09:52:00.530940634Z', 'type': 'MARKET_ORDER', 'instrument': 'USD_NOK', 'units': '-21170', 'timeInForce': 'FOK', 'positionFill': 'DEFAULT', 'takeProfitOnFill': {'price': '10.91172', 'timeInForce': 'GTC'}, 'stopLossOnFill': {'price': '10.67685', 'timeInForce': 'GTC', 'triggerMode': 'TOP_OF_BOOK'}, 'reason': 'CLIENT_ORDER'}, 'orderCancelTransaction': {'id': '34149', 'accountID': '101-011-24509333-004', 'userID': 24509333, 'batchID': '34148', 'requestID': '61262110795619863', 'time': '2024-07-16T09:52:00.530940634Z', 'type': 'ORDER_CANCEL', 'orderID': '34148', 'reason': 'TAKE_PROFIT_ON_FILL_LOSS'}, 'relatedTransactionIDs': ['34148', '34149'], 'lastTransactionID': '34149'}\n",
      "Signal Not found for NZD_SGD\n",
      "Found signal for USD_CAD\n",
      "True\n",
      "['AUD_CAD']\n",
      "USD_CAD this is trades:AUD_CAD\n",
      "Order placed for USD_CAD. Side: sell, Time: 2024-07-16 19:00:00+10:00,Details:{'orderCreateTransaction': {'id': '34154', 'accountID': '101-011-24509333-004', 'userID': 24509333, 'batchID': '34154', 'requestID': '61262110837571817', 'time': '2024-07-16T09:52:10.035485323Z', 'type': 'MARKET_ORDER', 'instrument': 'USD_CAD', 'units': '-50245', 'timeInForce': 'FOK', 'positionFill': 'DEFAULT', 'takeProfitOnFill': {'price': '1.37267', 'timeInForce': 'GTC'}, 'stopLossOnFill': {'price': '1.36024', 'timeInForce': 'GTC', 'triggerMode': 'TOP_OF_BOOK'}, 'reason': 'CLIENT_ORDER'}, 'orderCancelTransaction': {'id': '34155', 'accountID': '101-011-24509333-004', 'userID': 24509333, 'batchID': '34154', 'requestID': '61262110837571817', 'time': '2024-07-16T09:52:10.035485323Z', 'type': 'ORDER_CANCEL', 'orderID': '34154', 'reason': 'TAKE_PROFIT_ON_FILL_LOSS'}, 'relatedTransactionIDs': ['34154', '34155'], 'lastTransactionID': '34155'}\n",
      "Signal Not found for EUR_AUD\n",
      "Signal Not found for TRY_JPY\n"
     ]
    }
   ],
   "source": [
    "for instrument in ForexData().tradable_instruments():\n",
    "    last_candle = last_candle_function(instrument=instrument,granularity=\"H1\")\n",
    "    running_trades_list = running_trades(last_candle=last_candle,pair = instrument)\n"
   ]
  },
  {
   "cell_type": "markdown",
   "metadata": {},
   "source": []
  },
  {
   "cell_type": "code",
   "execution_count": 2,
   "metadata": {},
   "outputs": [],
   "source": [
    "from src.Trademanager import Trademanager"
   ]
  },
  {
   "cell_type": "code",
   "execution_count": 6,
   "metadata": {},
   "outputs": [
    {
     "name": "stdout",
     "output_type": "stream",
     "text": [
      "29578\n"
     ]
    }
   ],
   "source": [
    "pair = \"AUD_USD\"\n",
    "last_candle = last_candle_function(instrument=\"AUD_USD\",granularity=\"H1\")\n",
    "side = last_candle['Position']\n",
    "price_type = 'bid' if side == \"buy\" else 'ask'\n",
    "last_candle = Trademanager().fetch_and_process(instrument=\"AUD_USD\", price_type=price_type, granularity=\"D\")\n",
    "pipvalue = Trademanager().pip_size(last_candle)\n",
    "position_size = round(Trademanager().position_size_calculator(stop_loss=pipvalue*1.5))\n",
    "unit = position_size * last_candle['Close'] if pair != \"EUR_USD\" else position_size\n",
    "print(round(unit))"
   ]
  },
  {
   "cell_type": "code",
   "execution_count": null,
   "metadata": {},
   "outputs": [],
   "source": []
  },
  {
   "cell_type": "code",
   "execution_count": 16,
   "metadata": {},
   "outputs": [
    {
     "data": {
      "text/plain": [
       "instrument                       AUD_USD\n",
       "Time           2024-07-16 07:00:00+10:00\n",
       "granularity                            D\n",
       "Open                             0.67583\n",
       "High                             0.67638\n",
       "Low                               0.6732\n",
       "Close                            0.67419\n",
       "smaHigh                         0.676193\n",
       "smaLow                          0.672405\n",
       "sslDown                         0.672405\n",
       "sslUp                           0.676193\n",
       "Position                             buy\n",
       "SIGNAL                             False\n",
       "SSL_BUY                            False\n",
       "SSL_SELL                           False\n",
       "ATR                             0.004212\n",
       "atrup                           0.678402\n",
       "atrdown                         0.669978\n",
       "SL                              0.667872\n",
       "TP                              0.678402\n",
       "baseline                        0.675189\n",
       "Name: 399, dtype: object"
      ]
     },
     "execution_count": 16,
     "metadata": {},
     "output_type": "execute_result"
    }
   ],
   "source": [
    "last_candle"
   ]
  },
  {
   "cell_type": "code",
   "execution_count": 6,
   "metadata": {},
   "outputs": [
    {
     "name": "stdout",
     "output_type": "stream",
     "text": [
      "None\n"
     ]
    }
   ],
   "source": [
    "print(closing_running_trades(pair=\"GBP_USD\"))"
   ]
  },
  {
   "cell_type": "code",
   "execution_count": 15,
   "metadata": {},
   "outputs": [
    {
     "data": {
      "text/plain": [
       "13815.4978"
      ]
     },
     "execution_count": 15,
     "metadata": {},
     "output_type": "execute_result"
    }
   ],
   "source": [
    "Trademanager().account_bal"
   ]
  },
  {
   "cell_type": "code",
   "execution_count": null,
   "metadata": {},
   "outputs": [],
   "source": []
  }
 ],
 "metadata": {
  "kernelspec": {
   "display_name": "bot",
   "language": "python",
   "name": "python3"
  },
  "language_info": {
   "codemirror_mode": {
    "name": "ipython",
    "version": 3
   },
   "file_extension": ".py",
   "mimetype": "text/x-python",
   "name": "python",
   "nbconvert_exporter": "python",
   "pygments_lexer": "ipython3",
   "version": "3.11.5"
  }
 },
 "nbformat": 4,
 "nbformat_minor": 2
}

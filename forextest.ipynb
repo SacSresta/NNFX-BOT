{
 "cells": [
  {
   "cell_type": "code",
   "execution_count": 1,
   "id": "a97cab25-4f6f-4825-aff7-26e01b8cfb34",
   "metadata": {},
   "outputs": [
    {
     "ename": "ModuleNotFoundError",
     "evalue": "No module named 'talib'",
     "output_type": "error",
     "traceback": [
      "\u001b[1;31m---------------------------------------------------------------------------\u001b[0m",
      "\u001b[1;31mModuleNotFoundError\u001b[0m                       Traceback (most recent call last)",
      "Cell \u001b[1;32mIn[1], line 3\u001b[0m\n\u001b[0;32m      1\u001b[0m \u001b[38;5;28;01mimport\u001b[39;00m \u001b[38;5;21;01mrequests\u001b[39;00m\n\u001b[0;32m      2\u001b[0m \u001b[38;5;28;01mimport\u001b[39;00m \u001b[38;5;21;01mpandas\u001b[39;00m \u001b[38;5;28;01mas\u001b[39;00m \u001b[38;5;21;01mpd\u001b[39;00m\n\u001b[1;32m----> 3\u001b[0m \u001b[38;5;28;01mimport\u001b[39;00m \u001b[38;5;21;01mtalib\u001b[39;00m\n\u001b[0;32m      4\u001b[0m \u001b[38;5;28;01mimport\u001b[39;00m \u001b[38;5;21;01mnumpy\u001b[39;00m \u001b[38;5;28;01mas\u001b[39;00m \u001b[38;5;21;01mnp\u001b[39;00m\n\u001b[0;32m      5\u001b[0m \u001b[38;5;28;01mimport\u001b[39;00m \u001b[38;5;21;01mtime\u001b[39;00m\n",
      "\u001b[1;31mModuleNotFoundError\u001b[0m: No module named 'talib'"
     ]
    }
   ],
   "source": [
    "import requests\n",
    "import pandas as pd\n",
    "import talib\n",
    "import numpy as np\n",
    "import time\n",
    "\n",
    "# Replace with your OANDA API key and account ID\n",
    "api_key = '0f11fb98df9be27e57dcf0a797c8690d-735e79da881ec985e1f22617060bdbd9'\n",
    "account_id = '101-011-24509333-001'\n",
    "\n",
    "# OANDA API endpoints\n",
    "base_url = 'https://api-fxpractice.oanda.com/v3'\n",
    "instrument = 'EUR_USD'\n",
    "granularity = 'H1'  # Hourly timeframe\n",
    "\n",
    "# SSL indicator parameters\n",
    "fast_length = 10\n",
    "slow_length = 20\n",
    "signal_length = 5\n",
    "\n",
    "# Function to fetch historical candlestick data from OANDA\n",
    "def fetch_candles(instrument, granularity, count=100):\n",
    "    url = f\"{base_url}/instruments/{instrument}/candles\"\n",
    "    params = {\n",
    "        'granularity': granularity,\n",
    "        'count': count,\n",
    "    }\n",
    "    headers = {\n",
    "        'Authorization': f'Bearer {api_key}',\n",
    "    }\n",
    "    response = requests.get(url, params=params, headers=headers)\n",
    "    data = response.json()\n",
    "    \n",
    "    candles = data['candles']\n",
    "    df = pd.DataFrame(candles)\n",
    "    df['time'] = pd.to_datetime(df['time'])\n",
    "    df.set_index('time', inplace=True)\n",
    "    \n",
    "    return df\n",
    "\n",
    "# Function to calculate SSL indicator\n",
    "def calculate_ssl(data):\n",
    "    high = data['high'].values.astype(float)\n",
    "    low = data['low'].values.astype(float)\n",
    "    close = data['close'].values.astype(float)\n",
    "\n",
    "    ssl_values = talib.SSL(high, low, close, fast_length=fast_length, slow_length=slow_length, signal_length=signal_length)\n",
    "    data['SSL_Up'] = np.where(ssl_values > 0, 1, 0)\n",
    "    data['SSL_Down'] = np.where(ssl_values < 0, 1, 0)\n",
    "\n",
    "    return data\n",
    "\n",
    "while True:\n",
    "    try:\n",
    "        # Fetch historical candlestick data\n",
    "        historical_data = fetch_candles(instrument, granularity, count=fast_length + signal_length - 1)\n",
    "\n",
    "        # Calculate SSL indicator\n",
    "        data_with_ssl = calculate_ssl(historical_data)\n",
    "\n",
    "        # Print the latest SSL values\n",
    "        latest_ssl_values = data_with_ssl[['SSL_Up', 'SSL_Down']].tail(1)\n",
    "        print(\"Latest SSL Values:\")\n",
    "        print(latest_ssl_values)\n",
    "\n",
    "    except Exception as e:\n",
    "        print(f\"An error occurred: {e}\")\n",
    "\n",
    "    time.sleep(60)  # Sleep for 60 seconds before checking again\n"
   ]
  },
  {
   "cell_type": "code",
   "execution_count": 2,
   "id": "c4ce52bf-a6af-4c29-b973-75569706b3f7",
   "metadata": {},
   "outputs": [
    {
     "name": "stderr",
     "output_type": "stream",
     "text": [
      "ERROR: Could not find a version that satisfies the requirement talib (from versions: none)\n",
      "ERROR: No matching distribution found for talib\n"
     ]
    }
   ],
   "source": [
    "!pip install talib"
   ]
  },
  {
   "cell_type": "code",
   "execution_count": null,
   "id": "c1e76fde-7553-4631-bf71-18e561a912dd",
   "metadata": {},
   "outputs": [],
   "source": []
  }
 ],
 "metadata": {
  "kernelspec": {
   "display_name": "Python 3 (ipykernel)",
   "language": "python",
   "name": "python3"
  },
  "language_info": {
   "codemirror_mode": {
    "name": "ipython",
    "version": 3
   },
   "file_extension": ".py",
   "mimetype": "text/x-python",
   "name": "python",
   "nbconvert_exporter": "python",
   "pygments_lexer": "ipython3",
   "version": "3.11.9"
  }
 },
 "nbformat": 4,
 "nbformat_minor": 5
}

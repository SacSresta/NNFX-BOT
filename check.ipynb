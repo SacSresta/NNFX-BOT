{
 "cells": [
  {
   "cell_type": "code",
   "execution_count": 1,
   "metadata": {},
   "outputs": [],
   "source": [
    "from data import ForexData\n",
    "from Trademanager import Trademanager\n",
    "from Technicals import Indicator"
   ]
  },
  {
   "cell_type": "code",
   "execution_count": 3,
   "metadata": {},
   "outputs": [
    {
     "data": {
      "text/plain": [
       "1332.604456"
      ]
     },
     "execution_count": 3,
     "metadata": {},
     "output_type": "execute_result"
    }
   ],
   "source": [
    "last_candle = Trademanager().fetch_and_process(instrument=\"EUR_USD\",granularity=\"M1\",price_type=\"ask\")\n",
    "pipvalue = Trademanager().pip_size(last_candle)\n",
    "unit = Trademanager().position_size_calculator(stop_loss=pipvalue*1.5)\n",
    "unit"
   ]
  },
  {
   "cell_type": "code",
   "execution_count": 8,
   "metadata": {},
   "outputs": [
    {
     "data": {
      "text/plain": [
       "instrument                       EUR_USD\n",
       "Time           2024-06-12 18:53:00+10:00\n",
       "granularity                           M1\n",
       "Open                             1.07483\n",
       "High                             1.07484\n",
       "Low                              1.07483\n",
       "Close                            1.07483\n",
       "smaHigh                         1.074942\n",
       "smaLow                          1.074848\n",
       "sslDown                         1.074942\n",
       "sslUp                           1.074848\n",
       "Position                            sell\n",
       "SIGNAL                             False\n",
       "ATR                             0.000095\n",
       "atrup                           1.074925\n",
       "atrdown                         1.074735\n",
       "SL                              1.074687\n",
       "TP                              1.074925\n",
       "baseline                        1.074856\n",
       "Name: 399, dtype: object"
      ]
     },
     "execution_count": 8,
     "metadata": {},
     "output_type": "execute_result"
    }
   ],
   "source": [
    "last_candle = Trademanager().fetch_and_process(instrument=\"EUR_USD\",granularity=\"M1\",price_type=\"ask\")\n",
    "pipvalue = Trademanager().pip_size(last_candle)\n",
    "unit = Trademanager().position_size_calculator(stop_loss=pipvalue*1.5)\n",
    "\n",
    "ForexData().create_order(instrument=\"EUR_USD\",units=unit,side=)"
   ]
  },
  {
   "cell_type": "code",
   "execution_count": 11,
   "metadata": {},
   "outputs": [
    {
     "data": {
      "text/plain": [
       "13.324982799999999"
      ]
     },
     "execution_count": 11,
     "metadata": {},
     "output_type": "execute_result"
    }
   ],
   "source": [
    "Trademanager().position_size_calculator(stop_loss=150)"
   ]
  },
  {
   "cell_type": "code",
   "execution_count": null,
   "metadata": {},
   "outputs": [],
   "source": []
  }
 ],
 "metadata": {
  "kernelspec": {
   "display_name": "bot",
   "language": "python",
   "name": "python3"
  },
  "language_info": {
   "codemirror_mode": {
    "name": "ipython",
    "version": 3
   },
   "file_extension": ".py",
   "mimetype": "text/x-python",
   "name": "python",
   "nbconvert_exporter": "python",
   "pygments_lexer": "ipython3",
   "version": "3.11.5"
  }
 },
 "nbformat": 4,
 "nbformat_minor": 2
}

{
 "cells": [
  {
   "cell_type": "code",
   "execution_count": 7,
   "metadata": {},
   "outputs": [],
   "source": [
    "from data import ForexData"
   ]
  },
  {
   "cell_type": "code",
   "execution_count": 8,
   "metadata": {},
   "outputs": [
    {
     "data": {
      "text/plain": [
       "['EUR_AUD', 'CAD_CHF', 'USD_CAD', 'NZD_CHF']"
      ]
     },
     "execution_count": 8,
     "metadata": {},
     "output_type": "execute_result"
    }
   ],
   "source": [
    "running_trades_df = ForexData().running_trades()\n",
    "running_instrument = running_trades_df['instrument']\n",
    "running_instrument_list = running_instrument.to_list()\n",
    "running_instrument_list"
   ]
  },
  {
   "cell_type": "code",
   "execution_count": 10,
   "metadata": {},
   "outputs": [
    {
     "name": "stdout",
     "output_type": "stream",
     "text": [
      "0    24024\n",
      "Name: id, dtype: object\n",
      "1    24020\n",
      "Name: id, dtype: object\n",
      "2    23996\n",
      "Name: id, dtype: object\n"
     ]
    }
   ],
   "source": [
    "signal_trade = \"AUD_CAD\"\n",
    "f,d = ForexData().run_check(pair = signal_trade)\n",
    "for i in d:\n",
    "    a = running_trades_df[running_trades_df['instrument'] == i]\n",
    "    print(a.id)"
   ]
  },
  {
   "cell_type": "code",
   "execution_count": 9,
   "metadata": {},
   "outputs": [
    {
     "name": "stdout",
     "output_type": "stream",
     "text": [
      "Closed id: 23727\n",
      "Closed id: 23723\n",
      "Closed id: 23719\n",
      "Closed id: 23715\n",
      "Closed id: 23711\n",
      "Closed id: 23707\n",
      "Closed id: 23703\n",
      "Closed id: 23695\n",
      "Closed id: 23691\n",
      "Closed id: 23687\n",
      "Closed id: 23683\n",
      "Closed id: 23675\n",
      "Closed id: 23671\n",
      "Closed id: 23659\n",
      "Closed id: 23657\n",
      "Closed id: 23653\n",
      "Closed id: 23629\n",
      "Closed id: 23617\n",
      "Closed id: 23613\n",
      "Closed id: 23585\n",
      "Closed id: 23577\n",
      "Closed id: 23547\n",
      "Closed id: 23515\n",
      "Closed id: 23501\n",
      "Closed id: 23489\n",
      "Closed id: 23399\n"
     ]
    }
   ],
   "source": [
    "for id in running_trades_df['id'].to_list():\n",
    "    ForexData().close_trade(trade_id=id)\n",
    "    print(f\"Closed id: {id}\")"
   ]
  },
  {
   "cell_type": "code",
   "execution_count": null,
   "metadata": {},
   "outputs": [],
   "source": []
  }
 ],
 "metadata": {
  "kernelspec": {
   "display_name": "bot",
   "language": "python",
   "name": "python3"
  },
  "language_info": {
   "codemirror_mode": {
    "name": "ipython",
    "version": 3
   },
   "file_extension": ".py",
   "mimetype": "text/x-python",
   "name": "python",
   "nbconvert_exporter": "python",
   "pygments_lexer": "ipython3",
   "version": "3.11.5"
  }
 },
 "nbformat": 4,
 "nbformat_minor": 2
}
